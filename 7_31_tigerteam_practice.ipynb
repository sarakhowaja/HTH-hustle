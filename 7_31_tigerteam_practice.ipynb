{
  "nbformat": 4,
  "nbformat_minor": 0,
  "metadata": {
    "colab": {
      "provenance": [],
      "authorship_tag": "ABX9TyNqC0NgjKBAg3H9wuTUlz2T",
      "include_colab_link": true
    },
    "kernelspec": {
      "name": "python3",
      "display_name": "Python 3"
    },
    "language_info": {
      "name": "python"
    }
  },
  "cells": [
    {
      "cell_type": "markdown",
      "metadata": {
        "id": "view-in-github",
        "colab_type": "text"
      },
      "source": [
        "<a href=\"https://colab.research.google.com/github/sarakhowaja/HTH-hustle/blob/main/7_31_tigerteam_practice.ipynb\" target=\"_parent\"><img src=\"https://colab.research.google.com/assets/colab-badge.svg\" alt=\"Open In Colab\"/></a>"
      ]
    },
    {
      "cell_type": "markdown",
      "source": [
        "function with print statement"
      ],
      "metadata": {
        "id": "tEaQ4RFoAj3z"
      }
    },
    {
      "cell_type": "code",
      "source": [
        "def generate_superhero_power():\n",
        "    # Define a user name and superhero power\n",
        "  user_name = \"tom\"\n",
        "  superhero_power = \"speed\"\n",
        "    # Combine the user's name with the given superhero power\n",
        "  combine = f\"{user_name} has {superhero_power}\"\n",
        "\n",
        "    # Print the result\n",
        "  print(combine)\n",
        "# Example usage\n",
        "#Call the function\n",
        "generate_superhero_power()"
      ],
      "metadata": {
        "colab": {
          "base_uri": "https://localhost:8080/"
        },
        "id": "7RFXHY75Bc-g",
        "outputId": "5e467170-4c34-4376-9d7e-42a668dbd33e"
      },
      "execution_count": 25,
      "outputs": [
        {
          "output_type": "stream",
          "name": "stdout",
          "text": [
            "tom has speed\n"
          ]
        }
      ]
    },
    {
      "cell_type": "markdown",
      "source": [
        "function with return"
      ],
      "metadata": {
        "id": "7_AKyM8FFZ4A"
      }
    },
    {
      "cell_type": "code",
      "source": [
        "#write function w/ a return statement:\n",
        "def generate_superhero_power():\n",
        "\n",
        "# Define a superhero power\n",
        "  superhero_power = \"invisibility\"\n",
        "\n",
        "  # Return the superhero power\n",
        "  return superhero_power\n",
        "\n",
        "# Example usage\n",
        "\n",
        "# Call the function and print the result\n",
        "print(generate_superhero_power())"
      ],
      "metadata": {
        "colab": {
          "base_uri": "https://localhost:8080/"
        },
        "id": "DBA2t7n4FdJY",
        "outputId": "865a467c-50cb-44e0-c6d5-8156be59d736"
      },
      "execution_count": 40,
      "outputs": [
        {
          "output_type": "stream",
          "name": "stdout",
          "text": [
            "invisibility\n"
          ]
        }
      ]
    },
    {
      "cell_type": "markdown",
      "source": [
        "functions with arguments"
      ],
      "metadata": {
        "id": "8ABdXQMuIiic"
      }
    },
    {
      "cell_type": "code",
      "source": [
        "#hint use ()\n",
        "    # Combine the user's name with the given superhero power\n",
        "    # Return the result\n",
        "# Example usage\n",
        "# Call the function with arguments and print the result\n",
        "\n",
        "def generate_superhero_power(user_name, superhero_power):\n",
        "  combined = f\"{user_name} has {superhero_power}\"\n",
        "  return(combined)\n",
        "\n",
        "print(generate_superhero_power(\"Tommy\" , \"speed\"))"
      ],
      "metadata": {
        "colab": {
          "base_uri": "https://localhost:8080/"
        },
        "id": "Js1ZyHVhInLT",
        "outputId": "22ed8f51-49ae-47c6-8f86-e5c75414bce4"
      },
      "execution_count": 51,
      "outputs": [
        {
          "output_type": "stream",
          "name": "stdout",
          "text": [
            "Tommy has speed\n"
          ]
        }
      ]
    },
    {
      "cell_type": "code",
      "source": [
        "# Define a class named Cat\n",
        "class Cat:\n",
        "    # The __init__ method initializes the object\n",
        "    def __init__(self, name, age):\n",
        "        self.name = name  # Set the cat's name\n",
        "        self.age = age    # Set the cat's age\n",
        "        self.toys = []    # Initialize an empty list for toys\n",
        "\n",
        "    # Method to make the cat \"meow\"\n",
        "    def meow(self):\n",
        "        print(f\"{self.name} says 'Meow!'\")  # Print the meow message\n",
        "\n",
        "    # Method to add a new toy\n",
        "    def add_toy(self, new_toy):\n",
        "        self.toys.append(new_toy)  # Add the new toy to the list\n",
        "        return self.toys          # Return the updated list of toys\n",
        "\n",
        "# Create an instance of the Cat class\n",
        "cat1 = Cat('Whiskers', 5)\n",
        "\n",
        "# Print the name of the cat\n",
        "print(cat1.name)"
      ],
      "metadata": {
        "colab": {
          "base_uri": "https://localhost:8080/"
        },
        "id": "cSnV05aOLl8Z",
        "outputId": "6deeed36-1327-4d5f-d890-bcf340520062"
      },
      "execution_count": 52,
      "outputs": [
        {
          "output_type": "stream",
          "name": "stdout",
          "text": [
            "Whiskers\n"
          ]
        }
      ]
    }
  ]
}