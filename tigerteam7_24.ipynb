{
  "nbformat": 4,
  "nbformat_minor": 0,
  "metadata": {
    "colab": {
      "provenance": [],
      "authorship_tag": "ABX9TyOh6OSCeCCgbNSzIhEaS9D0",
      "include_colab_link": true
    },
    "kernelspec": {
      "name": "python3",
      "display_name": "Python 3"
    },
    "language_info": {
      "name": "python"
    }
  },
  "cells": [
    {
      "cell_type": "markdown",
      "metadata": {
        "id": "view-in-github",
        "colab_type": "text"
      },
      "source": [
        "<a href=\"https://colab.research.google.com/github/sarakhowaja/HTH-hustle/blob/main/tigerteam7_24.ipynb\" target=\"_parent\"><img src=\"https://colab.research.google.com/assets/colab-badge.svg\" alt=\"Open In Colab\"/></a>"
      ]
    },
    {
      "cell_type": "markdown",
      "source": [
        "# Inputs\n",
        "\n",
        "Make sure we are asking the usera clear question\n",
        "\n",
        "Remember that inputs return the balue as a string\n",
        "\n",
        "input is a function\n",
        "\n",
        "combos:\n",
        "\n",
        "int(input(\"\")) = changes to an integer, a whole #\n",
        "\n",
        "float(input(\"\")) = changes to a float (decimals)"
      ],
      "metadata": {
        "id": "I-Bw64--zGc3"
      }
    },
    {
      "cell_type": "code",
      "source": [
        "#1 Create and print a variable that contains a name using the `input()` function\n",
        "name = input(\"What is your name? \")\n",
        "print(name)\n",
        "\n",
        "#2 Create and print a variable that contains an integer using the `input()` function\n",
        "age = int(input(\"How old are you\" ))\n",
        "print(age)\n",
        "\n",
        "#3 Create and print a variable that contains a float using the `input()` function\n",
        "height = float(input(\"What is your height in feet?\" ))\n",
        "print(height)\n",
        "\n",
        "#4 Create and print a variable that contains an integer using the `input()` function\n",
        "# and add it to another variable\n",
        "age1 = int(input(\"How old are you\"))\n",
        "age2 = int(input(\"How old were you a year ago\"))\n",
        "print(f\"The sum of those numbers is = {age1 + age2}\")"
      ],
      "metadata": {
        "id": "Jb36amDbz9j0"
      },
      "execution_count": null,
      "outputs": []
    },
    {
      "cell_type": "markdown",
      "source": [
        "# Conditional\n",
        "\n",
        "Statements!\n",
        "\n",
        "- IF the statement is true, then a condition will happen\n",
        "- There is always a ':' (colon) at the end\n",
        "- The next line of code is always indented\n",
        "\n",
        "if _______:\n",
        "elif ________: (always after an if statemnt)\n",
        "else: (Catch all phrase)"
      ],
      "metadata": {
        "id": "tWDYqaBN7BbO"
      }
    },
    {
      "cell_type": "code",
      "source": [
        "# Voting Eligibility Checker\n",
        "\n",
        "# Step 1: Ask the user to enter their age\n",
        "age = int(input(\"How old are you? \"))\n",
        "\n",
        "# Step 2: Tell them a specific statement based off that age\n",
        "\n",
        "#Step 2.1\n",
        "# If the age is 18 or older, print that the user can vote\n",
        "if age >= 18:\n",
        "  print(\"You can vote NOW!\")\n",
        "#Step 2.2\n",
        "#Elif the user will be 18 in two years, tell them they can vote in two years\n",
        "elif age == 16:\n",
        "  print(\"You can vote in two years!\")\n",
        "elif age == 17:\n",
        "  print(\"You can vote in 1 more year!\")\n",
        "#Step 2.3\n",
        "#If they aren't,\n",
        "#print that the user cannot vote yet\n",
        "else:\n",
        "  print(\"Unfortunately, you cannot vote yet\")"
      ],
      "metadata": {
        "id": "fJaj8cKH7g2t",
        "colab": {
          "base_uri": "https://localhost:8080/"
        },
        "outputId": "ca399b3f-c9f8-42b2-e448-041753634e4c"
      },
      "execution_count": 10,
      "outputs": [
        {
          "output_type": "stream",
          "name": "stdout",
          "text": [
            "How old are you? 17\n",
            "You can vote in 1 more year!\n"
          ]
        }
      ]
    },
    {
      "cell_type": "markdown",
      "source": [
        "# Guess the number activity"
      ],
      "metadata": {
        "id": "yrfBqZATAJCg"
      }
    },
    {
      "cell_type": "code",
      "source": [
        "# Hemangi (the computer) had to choose a secret number\n",
        "# Hemangi (the computer) asked Sara (the guesser) \"Guess a number between 1-25\"\n",
        "# Sara (the guesser) answered 12\n",
        "# Hemangi (the computer) said \"guess a higher number\"\n",
        "# Hemangi (the computer) knew it had to be higher because her number IS higher\n",
        "# Sara Sara (the guesser) answered 15\n",
        "# Hemangi (the computer) said \"That is the right answer!\"\n",
        "\n",
        "secret_number = 15\n",
        "\n",
        "user_guess = int(input(\"Guess a number between 1-25: \"))\n",
        "\n",
        "\n",
        "while user_guess != secret_number:\n",
        "  if user_guess  < secret_number:\n",
        "    print(\"Guess a higher number \")\n",
        "  elif user_guess > secret_number:\n",
        "    print(\"guess a lower number\")\n",
        "\n",
        "  user_guess = int(input(\"Guess a number between 1-25: \"))\n",
        "\n",
        "print(\"You guessed the correct number!\")"
      ],
      "metadata": {
        "colab": {
          "base_uri": "https://localhost:8080/"
        },
        "id": "w9qqL01VAR6u",
        "outputId": "06725520-b405-4c5f-a97e-c7a44323066a"
      },
      "execution_count": 12,
      "outputs": [
        {
          "output_type": "stream",
          "name": "stdout",
          "text": [
            "Guess a number between 1-25: 102\n",
            "guess a lower number\n",
            "Guess a number between 1-25: 15\n",
            "You guessed the correct number!\n"
          ]
        }
      ]
    },
    {
      "cell_type": "markdown",
      "source": [
        "# Functions!!!\n",
        "\n",
        "What is a function\n",
        "\n",
        "Function is a reusable block of code\n",
        "\n",
        "They can take inputs and give outputs\n",
        "\n",
        "ex: input() and print()\n",
        "\n",
        "WHat is the syntax to create a function?\n",
        "\n",
        "1. `def` key starts the function\n",
        "2. followed by the function name `snake_case`\n",
        "3. followed by a parenthesis `()`\n",
        "4. end with a colon `:`\n",
        "5. Next lines of code is indented\n",
        "\n",
        "**What are parameters / arguments?**\n",
        "\n",
        "Variables listed inside of the parenthesis, can have multiple, separated by a comma\n",
        "\n",
        "**What is the syntax to call a function?**\n",
        "\n",
        "use function name, and then the parenthsiis. If it takes an argument, you place that argument inside of the parenthesis"
      ],
      "metadata": {
        "id": "44nNBACSEjRr"
      }
    },
    {
      "cell_type": "code",
      "source": [
        "def my_greeting():\n",
        "  print(\"Hello There!\")\n",
        "\n",
        "my_greeting()"
      ],
      "metadata": {
        "colab": {
          "base_uri": "https://localhost:8080/"
        },
        "id": "Bl28MubNGBnt",
        "outputId": "d2b8221d-80a4-4892-c3c0-02b1582de091"
      },
      "execution_count": 15,
      "outputs": [
        {
          "output_type": "stream",
          "name": "stdout",
          "text": [
            "Hello There!\n"
          ]
        }
      ]
    },
    {
      "cell_type": "code",
      "source": [
        "def my_greeting_name(name):\n",
        "  print(f\"Hello {name}\")\n",
        "\n",
        "my_greeting_name('Sara')"
      ],
      "metadata": {
        "colab": {
          "base_uri": "https://localhost:8080/"
        },
        "id": "QIL-iGm8G_Aj",
        "outputId": "2255d1cb-5b9d-4b9e-bf31-52771735cc3e"
      },
      "execution_count": 16,
      "outputs": [
        {
          "output_type": "stream",
          "name": "stdout",
          "text": [
            "Hello Sara\n"
          ]
        }
      ]
    },
    {
      "cell_type": "code",
      "source": [
        "\n",
        "def greet_class_students(roster):\n",
        "  for student in roster:\n",
        "    print(f\"Hello {student}\")\n",
        "\n",
        "class_A = ['Hemangi', 'Sara', 'Zaid', 'Xavier', 'Emmanuel']\n",
        "\n",
        "greet_class_students(class_A)\n",
        "\n",
        "class_B = ['Frodo', 'Merry', 'Pippin', 'Sam']\n",
        "\n",
        "greet_class_students(class_B)"
      ],
      "metadata": {
        "colab": {
          "base_uri": "https://localhost:8080/"
        },
        "id": "n_isxCq7Hrv4",
        "outputId": "251a81a5-413f-48b7-96f7-924979f2d43b"
      },
      "execution_count": 17,
      "outputs": [
        {
          "output_type": "stream",
          "name": "stdout",
          "text": [
            "Hello Hemangi\n",
            "Hello Sara\n",
            "Hello Zaid\n",
            "Hello Xavier\n",
            "Hello Emmanuel\n",
            "Hello Frodo\n",
            "Hello Merry\n",
            "Hello Pippin\n",
            "Hello Sam\n"
          ]
        }
      ]
    }
  ]
}