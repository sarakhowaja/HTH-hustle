{
  "nbformat": 4,
  "nbformat_minor": 0,
  "metadata": {
    "colab": {
      "provenance": [],
      "authorship_tag": "ABX9TyPvKSdMmUgzEGc3qhtuF4Y7",
      "include_colab_link": true
    },
    "kernelspec": {
      "name": "python3",
      "display_name": "Python 3"
    },
    "language_info": {
      "name": "python"
    }
  },
  "cells": [
    {
      "cell_type": "markdown",
      "metadata": {
        "id": "view-in-github",
        "colab_type": "text"
      },
      "source": [
        "<a href=\"https://colab.research.google.com/github/sarakhowaja/HTH-hustle/blob/main/HTH_Lab_2_6_17_24.ipynb\" target=\"_parent\"><img src=\"https://colab.research.google.com/assets/colab-badge.svg\" alt=\"Open In Colab\"/></a>"
      ]
    },
    {
      "cell_type": "markdown",
      "source": [
        "Lab June 17\n",
        "\n",
        "intro to psuedo code"
      ],
      "metadata": {
        "id": "59X2wHxQ0kn-"
      }
    },
    {
      "cell_type": "code",
      "source": [
        "car=\"mercedes\"\n",
        "Car=\"Audi\""
      ],
      "metadata": {
        "id": "7shwQMkE1HEq"
      },
      "execution_count": 1,
      "outputs": []
    },
    {
      "cell_type": "code",
      "source": [
        "print(car)"
      ],
      "metadata": {
        "colab": {
          "base_uri": "https://localhost:8080/"
        },
        "id": "RrGuzxmj1ZlW",
        "outputId": "14144d29-edc2-4fae-d5a6-74a46654f48d"
      },
      "execution_count": 2,
      "outputs": [
        {
          "output_type": "stream",
          "name": "stdout",
          "text": [
            "mercedes\n"
          ]
        }
      ]
    },
    {
      "cell_type": "code",
      "source": [
        "print(Car)"
      ],
      "metadata": {
        "colab": {
          "base_uri": "https://localhost:8080/"
        },
        "id": "WYIiv2pC1c7F",
        "outputId": "0dd7459e-3ba0-418f-9fc4-dba44389081c"
      },
      "execution_count": 3,
      "outputs": [
        {
          "output_type": "stream",
          "name": "stdout",
          "text": [
            "Audi\n"
          ]
        }
      ]
    },
    {
      "cell_type": "markdown",
      "source": [
        "###Psuedo code for my application\n",
        "I want to write a program that takes user input and prints it back to the screen.\n",
        "\n",
        "`First_name` the user's first name\n",
        "\n",
        "`Last_Name` the user's last name\n",
        "\n",
        "`Age` the user's age\n",
        "\n",
        "`Fav_Colour` the user's favourite colour\n",
        "\n",
        "`Fav_Sport` the user's favourite sport\n",
        "\n",
        "`Fav_Team` the user's favourite team\n",
        "\n",
        "use a 'built-in' process to take user's data.\n",
        "\n",
        "use a 'built-in' process to display user's data.\n"
      ],
      "metadata": {
        "id": "LhNr0nx412On"
      }
    },
    {
      "cell_type": "markdown",
      "source": [
        "###code for my application"
      ],
      "metadata": {
        "id": "5yO1CYyt2rOL"
      }
    },
    {
      "cell_type": "code",
      "source": [
        "First_name = 'john'\n",
        "#basically creating a variable called first name and assigning a value to it.\n",
        "\n",
        "Last_Name = 'Connor'\n",
        "#creating a variable called last name and assigning a value to it.\n",
        "\n",
        "Age = '23'\n",
        "# creating a variable called age and assigning a value to it.\n",
        "\n",
        "Fav_Colour = 'gray'\n",
        "# creating a variable called fav color and assigning a value to it.\n",
        "\n",
        "Fav_Sport = 'soccer'\n",
        "# creating a variable called fav sport and assigning a value to it.\n",
        "\n",
        "Fav_Team = 'Man U'\n",
        "# creating a variable called fav team and assigning a value to it.\n"
      ],
      "metadata": {
        "id": "OJtr7UGE3FJ7"
      },
      "execution_count": null,
      "outputs": []
    },
    {
      "cell_type": "code",
      "source": [
        "First_name = input('What is your first name? ')\n",
        "#asking user what their first name is and then allowing them to enter it\n",
        "Last_Name = input('What is your last name? ')\n",
        "#asking user what their last name is and then allowing them to enter it\n",
        "Age = input('What is your age? ')\n",
        "#asking user what their age is and then allowing them to enter it\n",
        "Fav_Colour = input('What is your favourite colour? ')\n",
        "#asking user what their fav color is and then allowing them to enter it\n",
        "Fav_Sport = input('What is your favourite sport? ')\n",
        "#asking user what their fav sport is and then allowing them to enter it\n",
        "Fav_Team = input('What is your favourite team? ')\n",
        "#asking user what their fav team is and then allowing them to enter it"
      ],
      "metadata": {
        "colab": {
          "base_uri": "https://localhost:8080/"
        },
        "id": "OThu9eVr4R2o",
        "outputId": "cf4d1cd1-bc86-455d-ec88-21820ddb03f8"
      },
      "execution_count": 7,
      "outputs": [
        {
          "name": "stdout",
          "output_type": "stream",
          "text": [
            "What is your first name? harry\n",
            "What is your last name? potter\n",
            "What is your age? 11\n",
            "What is your favourite colour? red\n",
            "What is your favourite sport? quiddich\n",
            "What is your favourite team? gryfindor\n"
          ]
        }
      ]
    },
    {
      "cell_type": "code",
      "source": [
        "print(f\"User first name is, {First_name}, last name is, {Last_Name}, age is, {Age},\\\n",
        " favourite colour is, {Fav_Colour}, favourite sport is, {Fav_Sport}, favourite team is, {Fav_Team}\")"
      ],
      "metadata": {
        "colab": {
          "base_uri": "https://localhost:8080/"
        },
        "id": "pXq5j1as5hAD",
        "outputId": "ece56d98-bd43-40fe-8817-6b2b6156bc29"
      },
      "execution_count": 12,
      "outputs": [
        {
          "output_type": "stream",
          "name": "stdout",
          "text": [
            "User first name is, harry, last name is, potter, age is, 11, favourite colour is, red, favourite sport is, quiddich, favourite team is, gryfindor\n"
          ]
        }
      ]
    },
    {
      "cell_type": "code",
      "source": [
        "#so this is the same thing as before (#asking user for their info and then allowing them to enter it)\n",
        "#except this is an easier way to do the input thing and we used diff names for this example"
      ],
      "metadata": {
        "id": "p1iHvJ7y9kZH"
      },
      "execution_count": null,
      "outputs": []
    }
  ]
}