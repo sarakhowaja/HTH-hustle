{
  "nbformat": 4,
  "nbformat_minor": 0,
  "metadata": {
    "colab": {
      "provenance": [],
      "authorship_tag": "ABX9TyNMkh7SYUhfoXui2ZOA8zdb",
      "include_colab_link": true
    },
    "kernelspec": {
      "name": "python3",
      "display_name": "Python 3"
    },
    "language_info": {
      "name": "python"
    }
  },
  "cells": [
    {
      "cell_type": "markdown",
      "metadata": {
        "id": "view-in-github",
        "colab_type": "text"
      },
      "source": [
        "<a href=\"https://colab.research.google.com/github/sarakhowaja/HTH-hustle/blob/main/week3datastructures.ipynb\" target=\"_parent\"><img src=\"https://colab.research.google.com/assets/colab-badge.svg\" alt=\"Open In Colab\"/></a>"
      ]
    },
    {
      "cell_type": "markdown",
      "source": [
        "#lists and dicts\n",
        "######aceesing lists, dicts, manipulating data"
      ],
      "metadata": {
        "id": "BzPPlrZqu0ju"
      }
    },
    {
      "cell_type": "code",
      "source": [
        "# make a list of ur fav foods BUT in a dictionary\n",
        "\n",
        "food_preferences = {\n",
        "  \"Sara\" : {\n",
        "      \"likes\" : [\"pizza\" , \"french fries\" , \"pasta\"],\n",
        "      \"dislikes\" : [\"yogurt\" , \"brocolli\"]\n",
        "  }\n",
        "}\n",
        "\n",
        "#print it out\n",
        "\n",
        "print(food_preferences)\n",
        "\n",
        "# 2. print the second thing that you like\n",
        "\n",
        "print(food_preferences[\"Sara\"][\"likes\"][1])\n",
        "\n",
        "#3. Modify - append, pop\n",
        "print(food_preferences[\"Sara\"][\"likes\"])\n",
        "food_preferences[\"Sara\"][\"likes\"].append(\"boba\")\n",
        "print(\"updated list\")\n",
        "print(food_preferences[\"Sara\"][\"likes\"])\n",
        "\n",
        "print(\"my dislikes\")\n",
        "print(food_preferences[\"Sara\"][\"dislikes\"])\n",
        "food_preferences [\"Sara\"][\"dislikes\"].pop(0)\n",
        "print(\"updated dislike list\")\n",
        "print(food_preferences[\"Sara\"][\"dislikes\"])"
      ],
      "metadata": {
        "colab": {
          "base_uri": "https://localhost:8080/"
        },
        "id": "L9rdXfE7vqEg",
        "outputId": "455a1dec-62d9-4c49-c9aa-463651a6dae6"
      },
      "execution_count": 7,
      "outputs": [
        {
          "output_type": "stream",
          "name": "stdout",
          "text": [
            "{'Sara': {'likes': ['pizza', 'french fries', 'pasta'], 'dislikes': ['yogurt', 'brocolli']}}\n",
            "french fries\n",
            "['pizza', 'french fries', 'pasta']\n",
            "updated list\n",
            "['pizza', 'french fries', 'pasta', 'boba']\n",
            "my dislikes\n",
            "['yogurt', 'brocolli']\n",
            "updated dislike list\n",
            "['brocolli']\n"
          ]
        }
      ]
    },
    {
      "cell_type": "markdown",
      "source": [
        "# indpendent work for meal options"
      ],
      "metadata": {
        "id": "XDJdV2342SFY"
      }
    },
    {
      "cell_type": "code",
      "source": [
        "meal_options = {\n",
        "\n",
        "    \"breakfast\": {\n",
        "\n",
        "        \"food\": [\"pancakes\", \"waffles\", \"fruit\"],\n",
        "\n",
        "        \"drinks\": [\"coffee\", \"black tea\", \"smoothie\", \"water\"]\n",
        "\n",
        "    },\n",
        "\n",
        "    \"lunch\": {\n",
        "\n",
        "        \"food\": [\"sandwich\", \"dumplings\"],\n",
        "\n",
        "        \"drinks\": [\"water\", \"green tea\", \"soda\"]\n",
        "\n",
        "    },\n",
        "\n",
        "    \"dinner\": {\n",
        "\n",
        "        \"food\": [\"ramen\", \"risotto\"],\n",
        "\n",
        "        \"drinks\": [\"water\", \"chamomile tea\"]\n",
        "\n",
        "    }\n",
        "\n",
        "}\n",
        "\n",
        "\n",
        "\n",
        "# 1. print all the meal options\n",
        "print(meal_options)\n",
        "\n",
        "\n",
        "# 2. print only the breakfast options\n",
        "print(meal_options[\"breakfast\"])\n",
        "\n",
        "\n",
        "# 3. print the dinner food options\n",
        "print(meal_options[\"dinner\"])\n",
        "\n",
        "\n",
        "# 4. print the lunch drinks options\n",
        "print(meal_options[\"lunch\"][\"drinks\"])\n",
        "\n",
        "\n",
        "# 5. print waffles (by accessing the dictionaries and list)\n",
        "print(meal_options[\"breakfast\"][\"food\"][1])\n",
        "\n",
        "\n",
        "# 6. print dumplings (by accessing the dictionaries and list)\n",
        "print(meal_options[\"lunch\"][\"food\"][1])\n",
        "\n",
        "\n",
        "# 7. print chamomile tea (by accessing the dictionaries and list)\n",
        "print(meal_options[\"dinner\"][\"drinks\"][1])\n",
        "\n",
        "\n",
        "# 8. remove green tea from the lunch drinks\n",
        "meal_options[\"lunch\"][\"drinks\"].pop(1)\n",
        "print(meal_options[\"lunch\"][\"drinks\"])\n",
        "\n",
        "# 9. add pizza to dinner foods\n",
        "meal_options[\"dinner\"][\"food\"].append(\"pizza\")\n",
        "print(meal_options[\"dinner\"][\"food\"])"
      ],
      "metadata": {
        "colab": {
          "base_uri": "https://localhost:8080/"
        },
        "id": "ZRGpIx6A2ZkG",
        "outputId": "6c02aed6-79c4-49d6-bb58-2a10c74a6cef"
      },
      "execution_count": 21,
      "outputs": [
        {
          "output_type": "stream",
          "name": "stdout",
          "text": [
            "{'breakfast': {'food': ['pancakes', 'waffles', 'fruit'], 'drinks': ['coffee', 'black tea', 'smoothie', 'water']}, 'lunch': {'food': ['sandwich', 'dumplings'], 'drinks': ['water', 'green tea', 'soda']}, 'dinner': {'food': ['ramen', 'risotto'], 'drinks': ['water', 'chamomile tea']}}\n",
            "{'food': ['pancakes', 'waffles', 'fruit'], 'drinks': ['coffee', 'black tea', 'smoothie', 'water']}\n",
            "{'food': ['ramen', 'risotto'], 'drinks': ['water', 'chamomile tea']}\n",
            "['water', 'green tea', 'soda']\n",
            "waffles\n",
            "dumplings\n",
            "chamomile tea\n",
            "['water', 'soda']\n",
            "['ramen', 'risotto', 'pizza']\n"
          ]
        }
      ]
    },
    {
      "cell_type": "code",
      "source": [],
      "metadata": {
        "id": "GsYU6GX92uUq"
      },
      "execution_count": null,
      "outputs": []
    }
  ]
}